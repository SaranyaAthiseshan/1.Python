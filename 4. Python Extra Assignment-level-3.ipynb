{
 "cells": [
  {
   "cell_type": "code",
   "execution_count": 4,
   "id": "4051640e-4f94-409f-a25e-6abc101b39ba",
   "metadata": {},
   "outputs": [
    {
     "name": "stdin",
     "output_type": "stream",
     "text": [
      "Value: 10\n"
     ]
    },
    {
     "name": "stdout",
     "output_type": "stream",
     "text": [
      "Correct\n"
     ]
    }
   ],
   "source": [
    "i=int(input(\"Value:\"))\n",
    "if(i==10):\n",
    "    print(\"Correct\")\n",
    "#else:\n",
    "    #print(\"Not Correct\")      //If necessary can include this\n",
    "    "
   ]
  },
  {
   "cell_type": "code",
   "execution_count": 6,
   "id": "7dce43df-48ee-4d40-87ba-e4bac0214c3f",
   "metadata": {},
   "outputs": [
    {
     "name": "stdin",
     "output_type": "stream",
     "text": [
      "Enter the password: HOPE@123\n"
     ]
    },
    {
     "name": "stdout",
     "output_type": "stream",
     "text": [
      "Your password is correct\n"
     ]
    }
   ],
   "source": [
    "pw=input(\"Enter the password:\")\n",
    "if(pw==\"HOPE@123\"):\n",
    "    print(\"Your password is correct\")\n",
    "#else:\n",
    "    #print(\"Your password is not correct\")        //If necessary can include this"
   ]
  },
  {
   "cell_type": "code",
   "execution_count": 12,
   "id": "79c663be-0231-475a-ad6b-aa17e04ac5eb",
   "metadata": {},
   "outputs": [
    {
     "name": "stdin",
     "output_type": "stream",
     "text": [
      "Age: 29\n"
     ]
    },
    {
     "name": "stdout",
     "output_type": "stream",
     "text": [
      "Adult\n"
     ]
    }
   ],
   "source": [
    "age=int(input(\"Age:\"))\n",
    "if(age<18):\n",
    "    print(\"Children\")\n",
    "elif(age<40):\n",
    "    print(\"Adult\")\n",
    "elif(age<60):\n",
    "    print(\"Citizen\")\n",
    "else:\n",
    "    print(\"Senior Citizen\")\n",
    "    "
   ]
  },
  {
   "cell_type": "code",
   "execution_count": 23,
   "id": "a4b1c650-ee1f-4640-bc5d-baefe94f3ec7",
   "metadata": {},
   "outputs": [
    {
     "name": "stdin",
     "output_type": "stream",
     "text": [
      "Enter any number: 1\n"
     ]
    },
    {
     "name": "stdout",
     "output_type": "stream",
     "text": [
      "No is poditive\n"
     ]
    }
   ],
   "source": [
    "num=float(input(\"Enter any number:\"))\n",
    "if(num>=0):\n",
    "    print(\"No is poditive\")\n",
    "#else:\n",
    "    #print(\"No is not positive\")       //If necessary can include this"
   ]
  },
  {
   "cell_type": "code",
   "execution_count": 24,
   "id": "5ec01873-0fda-4dbb-b84d-b3bd47d394cc",
   "metadata": {},
   "outputs": [
    {
     "name": "stdin",
     "output_type": "stream",
     "text": [
      "Enter a number to check: 22\n"
     ]
    },
    {
     "name": "stdout",
     "output_type": "stream",
     "text": [
      "No is not divisible by 5\n"
     ]
    }
   ],
   "source": [
    "num=int(input(\"Enter a number to check:\"))\n",
    "if((num%5)>=1):\n",
    "    print(\"No is not divisible by 5\")\n",
    "#else:\n",
    "    #print(\"No is divisible by 5\")        //If necessary can include this\n",
    "        "
   ]
  },
  {
   "cell_type": "code",
   "execution_count": null,
   "id": "869e520e-e087-4c91-b18e-14b8a5c0688a",
   "metadata": {},
   "outputs": [],
   "source": []
  }
 ],
 "metadata": {
  "kernelspec": {
   "display_name": "Python 3 (ipykernel)",
   "language": "python",
   "name": "python3"
  },
  "language_info": {
   "codemirror_mode": {
    "name": "ipython",
    "version": 3
   },
   "file_extension": ".py",
   "mimetype": "text/x-python",
   "name": "python",
   "nbconvert_exporter": "python",
   "pygments_lexer": "ipython3",
   "version": "3.12.4"
  }
 },
 "nbformat": 4,
 "nbformat_minor": 5
}
