{
 "cells": [
  {
   "cell_type": "code",
   "execution_count": null,
   "id": "424332c9-8113-4bb2-82e9-18e241326e84",
   "metadata": {},
   "outputs": [],
   "source": [
    "#create a class and function, and list out the items in the list"
   ]
  },
  {
   "cell_type": "code",
   "execution_count": 3,
   "id": "2d006874-6683-4e82-acdd-6bf8f98fb3fc",
   "metadata": {},
   "outputs": [],
   "source": [
    "class SubfieldsInAI:\n",
    "    def Subfields():\n",
    "            Subfields=(\"Sub-fields in AI Are:\", \"Machine Learning\", \"Neural Networks\", \"Vision\", \"Speech Processing\", \"Natural Language Processing\")\n",
    "            for a in Subfields:\n",
    "                print(a)\n",
    "                "
   ]
  },
  {
   "cell_type": "code",
   "execution_count": 4,
   "id": "c8204bf1-77f3-4615-87d4-5668e5345d48",
   "metadata": {},
   "outputs": [
    {
     "name": "stdout",
     "output_type": "stream",
     "text": [
      "Sub-fields in AI Are:\n",
      "Machine Learning\n",
      "Neural Networks\n",
      "Vision\n",
      "Speech Processing\n",
      "Natural Language Processing\n"
     ]
    }
   ],
   "source": [
    "SubfieldsInAI.Subfields()"
   ]
  },
  {
   "cell_type": "code",
   "execution_count": null,
   "id": "228e3243-e81d-428b-bce6-3205b3f53775",
   "metadata": {},
   "outputs": [],
   "source": [
    "#Create a function that checks whether the given number is Odd or Even"
   ]
  },
  {
   "cell_type": "code",
   "execution_count": 5,
   "id": "02417f1f-b40c-4029-b5dc-9d5048d5a077",
   "metadata": {},
   "outputs": [],
   "source": [
    "class OddEven:\n",
    "    def OddEven():\n",
    "        OddEven=int(input(\"Enter the number: \"))\n",
    "        if((OddEven%2)==1):\n",
    "            print(OddEven, \" is Odd Number\")\n",
    "        else:\n",
    "            print(OddEven,\" is Even Number\")\n"
   ]
  },
  {
   "cell_type": "code",
   "execution_count": 6,
   "id": "e57d2b50-f8e6-4975-bf6f-5e3f514c1a02",
   "metadata": {},
   "outputs": [
    {
     "name": "stdin",
     "output_type": "stream",
     "text": [
      "Enter the number:  52452\n"
     ]
    },
    {
     "name": "stdout",
     "output_type": "stream",
     "text": [
      "52452  is Even Number\n"
     ]
    }
   ],
   "source": [
    "OddEven.OddEven()"
   ]
  },
  {
   "cell_type": "code",
   "execution_count": null,
   "id": "69e5734f-7d5e-4c59-b357-f59456507afa",
   "metadata": {},
   "outputs": [],
   "source": [
    "#Create a function that tells elegibility of marriage for male and female according to ther age limit like 21 for male and 18 for female"
   ]
  },
  {
   "cell_type": "code",
   "execution_count": 7,
   "id": "196f2538-2c92-432b-a725-fb6badd91ac5",
   "metadata": {},
   "outputs": [],
   "source": [
    "class ElegibilityForMarriage:\n",
    "    def Elegible():\n",
    "        Gender=input(\"Your Gender: \")\n",
    "        Age=int(input(\"Your Age: \"))\n",
    "        if(Gender=='Male'):\n",
    "            if(Age>=21):\n",
    "                print(\"Elegible\")\n",
    "            else:\n",
    "                print(\"Not Elegible\")\n",
    "        elif(Gender=='Female'):\n",
    "            if(Age>=18):\n",
    "                print(\"Elegible\")\n",
    "            else:\n",
    "                print(\"Not Elegible\")\n",
    "        else:\n",
    "            print(\"Nothing found\")\n",
    "            "
   ]
  },
  {
   "cell_type": "code",
   "execution_count": 8,
   "id": "dc15cf90-4184-4211-ad62-0d965abd0a02",
   "metadata": {},
   "outputs": [
    {
     "name": "stdin",
     "output_type": "stream",
     "text": [
      "Your Gender:  Male\n",
      "Your Age:  20\n"
     ]
    },
    {
     "name": "stdout",
     "output_type": "stream",
     "text": [
      "Not Elegible\n"
     ]
    }
   ],
   "source": [
    "ElegibilityForMarriage.Elegible()"
   ]
  },
  {
   "cell_type": "code",
   "execution_count": 83,
   "id": "44650327-864f-4de4-a443-1d66615e3311",
   "metadata": {},
   "outputs": [],
   "source": [
    "#Calculate the percentage of your 10thh Mark"
   ]
  },
  {
   "cell_type": "code",
   "execution_count": 10,
   "id": "64a956ed-fe14-43e2-87d8-43554de150ea",
   "metadata": {},
   "outputs": [],
   "source": [
    "class FindPercent:\n",
    "    def percentage():\n",
    "        Subject1=int(input(\"Subject1= \"))\n",
    "        Subject2=int(input(\"Subject2= \"))  \n",
    "        Subject3=int(input(\"Subject3= \"))\n",
    "        Subject4=int(input(\"Subject4= \"))\n",
    "        Subject5=int(input(\"Subject5= \"))\n",
    "        Total=Subject1+Subject2+Subject3+Subject4+Subject5\n",
    "        print(\"Total:\" ,Total)\n",
    "        Percentage=float(Total/5)\n",
    "        print(\"Percentage: \",Percentage)\n",
    "        "
   ]
  },
  {
   "cell_type": "code",
   "execution_count": 11,
   "id": "051835de-4e69-45ef-9dd3-27e25866ddf8",
   "metadata": {},
   "outputs": [
    {
     "name": "stdin",
     "output_type": "stream",
     "text": [
      "Subject1=  98\n",
      "Subject2=  87\n",
      "Subject3=  95\n",
      "Subject4=  95\n",
      "Subject5=  93\n"
     ]
    },
    {
     "name": "stdout",
     "output_type": "stream",
     "text": [
      "Total: 468\n",
      "Percentage:  93.6\n"
     ]
    }
   ],
   "source": [
    "FindPercent.percentage()"
   ]
  },
  {
   "cell_type": "code",
   "execution_count": 103,
   "id": "9984ff4c-df64-4656-9184-ea6be7d2a7ed",
   "metadata": {},
   "outputs": [],
   "source": [
    "#Print are and perimeter of triangle using class and functions"
   ]
  },
  {
   "cell_type": "code",
   "execution_count": 12,
   "id": "2569c522-0aa3-441c-b72e-ceed654a0797",
   "metadata": {},
   "outputs": [],
   "source": [
    "class triangle:\n",
    "    def triangle():\n",
    "        H=int(input(\"Height: \"))\n",
    "        B=int(input(\"Breadth: \"))\n",
    "        Area=(H*B)/2\n",
    "        print(\"Area of Triangle: \",Area)\n",
    "        H1=int(input(\"Height1: \"))\n",
    "        H2=int(input(\"Height2: \"))\n",
    "        B2=int(input(\"Breadth: \"))\n",
    "        Perimeter=H1+H2+B2\n",
    "        print(\"Perimeter of Triangle: \",Perimeter)\n"
   ]
  },
  {
   "cell_type": "code",
   "execution_count": 13,
   "id": "e4349219-66ef-48bd-8343-a0620e1e0c04",
   "metadata": {},
   "outputs": [
    {
     "name": "stdin",
     "output_type": "stream",
     "text": [
      "Height:  32\n",
      "Breadth:  34\n"
     ]
    },
    {
     "name": "stdout",
     "output_type": "stream",
     "text": [
      "Area of Triangle:  544.0\n"
     ]
    },
    {
     "name": "stdin",
     "output_type": "stream",
     "text": [
      "Height1:  2\n",
      "Height2:  4\n",
      "Breadth:  4\n"
     ]
    },
    {
     "name": "stdout",
     "output_type": "stream",
     "text": [
      "Perimeter of Triangle:  10\n"
     ]
    }
   ],
   "source": [
    "triangle.triangle()"
   ]
  },
  {
   "cell_type": "code",
   "execution_count": null,
   "id": "85335f72-d881-45a1-827b-27409123c89e",
   "metadata": {},
   "outputs": [],
   "source": []
  }
 ],
 "metadata": {
  "kernelspec": {
   "display_name": "Python 3 (ipykernel)",
   "language": "python",
   "name": "python3"
  },
  "language_info": {
   "codemirror_mode": {
    "name": "ipython",
    "version": 3
   },
   "file_extension": ".py",
   "mimetype": "text/x-python",
   "name": "python",
   "nbconvert_exporter": "python",
   "pygments_lexer": "ipython3",
   "version": "3.12.4"
  }
 },
 "nbformat": 4,
 "nbformat_minor": 5
}
