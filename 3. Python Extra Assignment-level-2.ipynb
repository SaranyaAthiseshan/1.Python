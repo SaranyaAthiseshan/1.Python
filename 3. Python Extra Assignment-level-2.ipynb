{
 "cells": [
  {
   "cell_type": "code",
   "execution_count": 11,
   "id": "e9dbd78f-9c3f-4a16-b8db-6cbee36006ed",
   "metadata": {},
   "outputs": [
    {
     "name": "stdout",
     "output_type": "stream",
     "text": [
      "0\n",
      "1\n",
      "2\n",
      "3\n",
      "4\n",
      "5\n",
      "6\n",
      "7\n",
      "8\n",
      "9\n",
      "10\n",
      "11\n",
      "12\n",
      "13\n",
      "14\n",
      "15\n",
      "16\n",
      "17\n",
      "18\n",
      "19\n"
     ]
    }
   ],
   "source": [
    " # print 0 to 20 by using range \n",
    "for num in range(0,20):\n",
    "    print(num)"
   ]
  },
  {
   "cell_type": "code",
   "execution_count": 10,
   "id": "2f50b2b8-732b-4cc0-bdb8-db4ca5ee398c",
   "metadata": {},
   "outputs": [
    {
     "name": "stdout",
     "output_type": "stream",
     "text": [
      "10 11 12 13 14 15 16 17 18 19 "
     ]
    }
   ],
   "source": [
    "# print range 10 to 20 \n",
    "for num in range(10,20):\n",
    "    print(num, end=' ')"
   ]
  },
  {
   "cell_type": "code",
   "execution_count": 3,
   "id": "36f004cb-49e0-4355-ab33-356311099754",
   "metadata": {},
   "outputs": [
    {
     "name": "stdout",
     "output_type": "stream",
     "text": [
      "Number of item in the List2:\n"
     ]
    },
    {
     "data": {
      "text/plain": [
       "7"
      ]
     },
     "execution_count": 3,
     "metadata": {},
     "output_type": "execute_result"
    }
   ],
   "source": [
    " # Print number of items in the list by using 'len' \n",
    "list=(10,20,14,55,43,87,76)\n",
    "print(\"Number of item in the List2:\")\n",
    "len(list)"
   ]
  },
  {
   "cell_type": "code",
   "execution_count": 8,
   "id": "1deb0732-17e9-4607-8131-d82324c88a8b",
   "metadata": {},
   "outputs": [
    {
     "name": "stdout",
     "output_type": "stream",
     "text": [
      "Artificial Intelligence\n",
      "A\n",
      "r\n",
      "t\n",
      "i\n",
      "f\n",
      "i\n",
      "c\n",
      "i\n",
      "a\n",
      "l\n",
      " \n",
      "I\n",
      "n\n",
      "t\n",
      "e\n",
      "l\n",
      "l\n",
      "i\n",
      "g\n",
      "e\n",
      "n\n",
      "c\n",
      "e\n"
     ]
    }
   ],
   "source": [
    "text=\"Artificial Intelligence\"\n",
    "print(text)\n",
    "for a in text:\n",
    "    print(a)"
   ]
  },
  {
   "cell_type": "code",
   "execution_count": 15,
   "id": "ed7e30f4-8c85-4010-8606-ee22e30324f1",
   "metadata": {},
   "outputs": [
    {
     "name": "stdout",
     "output_type": "stream",
     "text": [
      "-Your Name-\n",
      "-Your AgeYour-\n",
      "-Your Profession-\n"
     ]
    }
   ],
   "source": [
    "List=(\"-Your Name-\", \"-Your AgeYour-\", \"-Your Profession-\")\n",
    "for a in List:\n",
    "    print(a)\n"
   ]
  },
  {
   "cell_type": "code",
   "execution_count": 16,
   "id": "e4c393ce-b6a9-4f6a-9654-65be3244b4ed",
   "metadata": {},
   "outputs": [
    {
     "name": "stdout",
     "output_type": "stream",
     "text": [
      "(1, 'Welcom', 2, 'Hope')\n"
     ]
    }
   ],
   "source": [
    "Tuple=(1,'Welcom',2,'Hope')\n",
    "print(Tuple)"
   ]
  },
  {
   "cell_type": "code",
   "execution_count": 26,
   "id": "09402a1a-25fd-4958-89f5-8c35c683c141",
   "metadata": {},
   "outputs": [
    {
     "name": "stdout",
     "output_type": "stream",
     "text": [
      "19 is odd\n",
      "25 is odd\n",
      "1 is odd\n"
     ]
    }
   ],
   "source": [
    "# print Odd Numbers in the list\n",
    "list=[20,10,16,19,25,1,276,188]\n",
    "for a in list:\n",
    "    if((a%2)==1):\n",
    "        print(a,\"is odd\")  "
   ]
  },
  {
   "cell_type": "code",
   "execution_count": 28,
   "id": "3460b12c-3b1f-451a-b751-bded13c5c9b8",
   "metadata": {},
   "outputs": [
    {
     "name": "stdout",
     "output_type": "stream",
     "text": [
      "20 is even\n",
      "10 is even\n",
      "16 is even\n",
      "276 is even\n",
      "188 is even\n"
     ]
    }
   ],
   "source": [
    "# print Even numbers in the list \n",
    "list=[20,10,16,19,25,1,276,188]\n",
    "for a in list:\n",
    "    if((a%2)==0):\n",
    "        print(a,\"is even\")"
   ]
  },
  {
   "cell_type": "code",
   "execution_count": 18,
   "id": "bd6676a0-128a-4bac-820f-c64e651ceed3",
   "metadata": {},
   "outputs": [
    {
     "name": "stdout",
     "output_type": "stream",
     "text": [
      "(0, 1, 2, 3) ('Python', 'HOPE')\n"
     ]
    }
   ],
   "source": [
    "Tuple1=(0,1,2,3)\n",
    "Tuple2=('Python','HOPE')\n",
    "print(Tuple1,Tuple2)"
   ]
  },
  {
   "cell_type": "code",
   "execution_count": null,
   "id": "d35741ba-514a-4c88-ab31-f4bfd5b01783",
   "metadata": {},
   "outputs": [],
   "source": []
  }
 ],
 "metadata": {
  "kernelspec": {
   "display_name": "Python 3 (ipykernel)",
   "language": "python",
   "name": "python3"
  },
  "language_info": {
   "codemirror_mode": {
    "name": "ipython",
    "version": 3
   },
   "file_extension": ".py",
   "mimetype": "text/x-python",
   "name": "python",
   "nbconvert_exporter": "python",
   "pygments_lexer": "ipython3",
   "version": "3.12.4"
  }
 },
 "nbformat": 4,
 "nbformat_minor": 5
}
