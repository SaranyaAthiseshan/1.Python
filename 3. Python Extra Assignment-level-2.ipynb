{
 "cells": [
  {
   "cell_type": "code",
   "execution_count": 11,
   "id": "e9dbd78f-9c3f-4a16-b8db-6cbee36006ed",
   "metadata": {},
   "outputs": [
    {
     "name": "stdout",
     "output_type": "stream",
     "text": [
      "0\n",
      "1\n",
      "2\n",
      "3\n",
      "4\n",
      "5\n",
      "6\n",
      "7\n",
      "8\n",
      "9\n",
      "10\n",
      "11\n",
      "12\n",
      "13\n",
      "14\n",
      "15\n",
      "16\n",
      "17\n",
      "18\n",
      "19\n"
     ]
    }
   ],
   "source": [
    " # print 0 to 20 by using range \n",
    "for num in range(0,20):\n",
    "    print(num)"
   ]
  },
  {
   "cell_type": "code",
   "execution_count": 10,
   "id": "2f50b2b8-732b-4cc0-bdb8-db4ca5ee398c",
   "metadata": {},
   "outputs": [
    {
     "name": "stdout",
     "output_type": "stream",
     "text": [
      "10 11 12 13 14 15 16 17 18 19 "
     ]
    }
   ],
   "source": [
    "# print range 10 to 20 \n",
    "for num in range(10,20):\n",
    "    print(num, end=' ')"
   ]
  },
  {
   "cell_type": "code",
   "execution_count": 15,
   "id": "36f004cb-49e0-4355-ab33-356311099754",
   "metadata": {},
   "outputs": [
    {
     "name": "stdout",
     "output_type": "stream",
     "text": [
      "[10, 20, 14, 55, 43, 87, 79]\n"
     ]
    },
    {
     "ename": "TypeError",
     "evalue": "'tuple' object is not callable",
     "output_type": "error",
     "traceback": [
      "\u001b[1;31m---------------------------------------------------------------------------\u001b[0m",
      "\u001b[1;31mTypeError\u001b[0m                                 Traceback (most recent call last)",
      "Cell \u001b[1;32mIn[15], line 4\u001b[0m\n\u001b[0;32m      2\u001b[0m item\u001b[38;5;241m=\u001b[39m[\u001b[38;5;241m10\u001b[39m,\u001b[38;5;241m20\u001b[39m,\u001b[38;5;241m14\u001b[39m,\u001b[38;5;241m55\u001b[39m,\u001b[38;5;241m43\u001b[39m,\u001b[38;5;241m87\u001b[39m,\u001b[38;5;241m79\u001b[39m]\n\u001b[0;32m      3\u001b[0m \u001b[38;5;28mprint\u001b[39m(item)\n\u001b[1;32m----> 4\u001b[0m \u001b[38;5;28mlen\u001b[39m(\u001b[38;5;124m\"\u001b[39m\u001b[38;5;124mNumber of item in the list2:\u001b[39m\u001b[38;5;124m\"\u001b[39m,item)\n",
      "\u001b[1;31mTypeError\u001b[0m: 'tuple' object is not callable"
     ]
    }
   ],
   "source": [
    " # Print number of items in the list by using 'len'\n",
    "item=[10,20,14,55,43,87,79]\n",
    "print(item)\n",
    "len(\"Number of item in the list2:\",item)"
   ]
  },
  {
   "cell_type": "code",
   "execution_count": null,
   "id": "1deb0732-17e9-4607-8131-d82324c88a8b",
   "metadata": {},
   "outputs": [],
   "source": []
  }
 ],
 "metadata": {
  "kernelspec": {
   "display_name": "Python 3 (ipykernel)",
   "language": "python",
   "name": "python3"
  },
  "language_info": {
   "codemirror_mode": {
    "name": "ipython",
    "version": 3
   },
   "file_extension": ".py",
   "mimetype": "text/x-python",
   "name": "python",
   "nbconvert_exporter": "python",
   "pygments_lexer": "ipython3",
   "version": "3.12.4"
  }
 },
 "nbformat": 4,
 "nbformat_minor": 5
}
