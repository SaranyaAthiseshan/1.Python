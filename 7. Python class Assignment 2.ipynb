{
 "cells": [
  {
   "cell_type": "code",
   "execution_count": 4,
   "id": "681441ac-a009-4f8a-819f-b6af518bf09b",
   "metadata": {},
   "outputs": [],
   "source": [
    "from PythonClassAssignment2 import assignment2"
   ]
  },
  {
   "cell_type": "code",
   "execution_count": 5,
   "id": "20d75e01-ea0b-4f12-ae90-9bd625677980",
   "metadata": {},
   "outputs": [
    {
     "name": "stdout",
     "output_type": "stream",
     "text": [
      "Sub-fields in AI Are:\n",
      "Machine Learning\n",
      "Neural Networks\n",
      "Vision\n",
      "Speech Processing\n",
      "Natural Language Processing\n"
     ]
    }
   ],
   "source": [
    "assignment2.SubfieldsInAI()"
   ]
  },
  {
   "cell_type": "code",
   "execution_count": 6,
   "id": "25cdb415-78a4-4b69-aeb4-fb85da98bda8",
   "metadata": {},
   "outputs": [
    {
     "name": "stdin",
     "output_type": "stream",
     "text": [
      "Enter the number:  32\n"
     ]
    },
    {
     "name": "stdout",
     "output_type": "stream",
     "text": [
      "32  is Even Number\n"
     ]
    }
   ],
   "source": [
    "assignment2.OddEven()"
   ]
  },
  {
   "cell_type": "code",
   "execution_count": 7,
   "id": "c3caed32-6bee-4831-8f8e-5b43d2cb3fab",
   "metadata": {},
   "outputs": [
    {
     "name": "stdin",
     "output_type": "stream",
     "text": [
      "Your Gender:  Female\n",
      "Your Age:  16\n"
     ]
    },
    {
     "name": "stdout",
     "output_type": "stream",
     "text": [
      "Not Elegible\n"
     ]
    }
   ],
   "source": [
    "assignment2.ElegiblityForMarriage()"
   ]
  },
  {
   "cell_type": "code",
   "execution_count": 8,
   "id": "d49a004a-a981-49a6-a530-e93fe519ca0f",
   "metadata": {},
   "outputs": [
    {
     "name": "stdin",
     "output_type": "stream",
     "text": [
      "Subject1=  96\n",
      "Subject2=  82\n",
      "Subject3=  96\n",
      "Subject4=  88\n",
      "Subject5=  92\n"
     ]
    },
    {
     "name": "stdout",
     "output_type": "stream",
     "text": [
      "Total: 454\n",
      "Percentage:  90.8\n"
     ]
    }
   ],
   "source": [
    "assignment2.FindPercent()"
   ]
  },
  {
   "cell_type": "code",
   "execution_count": 9,
   "id": "5d4dc0ba-9c05-48d8-8003-49a789368817",
   "metadata": {},
   "outputs": [
    {
     "name": "stdin",
     "output_type": "stream",
     "text": [
      "Height:  32\n",
      "Breadth:  32\n"
     ]
    },
    {
     "name": "stdout",
     "output_type": "stream",
     "text": [
      "Area of Triangle:  512.0\n"
     ]
    },
    {
     "name": "stdin",
     "output_type": "stream",
     "text": [
      "Height1:  3\n",
      "Height2:  3\n",
      "Breadth:  4\n"
     ]
    },
    {
     "name": "stdout",
     "output_type": "stream",
     "text": [
      "Perimeter of Triangle:  10\n"
     ]
    }
   ],
   "source": [
    "assignment2.triangle()"
   ]
  },
  {
   "cell_type": "code",
   "execution_count": null,
   "id": "543659ec-2df2-4e3b-a40e-98c3129a7041",
   "metadata": {},
   "outputs": [],
   "source": []
  }
 ],
 "metadata": {
  "kernelspec": {
   "display_name": "Python 3 (ipykernel)",
   "language": "python",
   "name": "python3"
  },
  "language_info": {
   "codemirror_mode": {
    "name": "ipython",
    "version": 3
   },
   "file_extension": ".py",
   "mimetype": "text/x-python",
   "name": "python",
   "nbconvert_exporter": "python",
   "pygments_lexer": "ipython3",
   "version": "3.12.4"
  }
 },
 "nbformat": 4,
 "nbformat_minor": 5
}
